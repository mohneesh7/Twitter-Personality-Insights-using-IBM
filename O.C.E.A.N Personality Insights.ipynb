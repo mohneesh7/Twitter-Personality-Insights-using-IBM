{
 "cells": [
  {
   "cell_type": "markdown",
   "metadata": {},
   "source": [
    "# OCEAN Personality Insights For Twitter Tweets"
   ]
  },
  {
   "cell_type": "markdown",
   "metadata": {},
   "source": [
    "## Import required Packages\n",
    "**Requirements:** \n",
    "\n",
    "- pip install ConfigParser\n",
    "- pip install tweepy\n",
    "- pip install ibm-watson"
   ]
  },
  {
   "cell_type": "code",
   "execution_count": 16,
   "metadata": {
    "ExecuteTime": {
     "end_time": "2020-11-04T16:52:05.653494Z",
     "start_time": "2020-11-04T16:52:04.963162Z"
    }
   },
   "outputs": [],
   "source": [
    "\n",
    "import configparser\n",
    "import os\n",
    "import tweepy as tw\n",
    "import pandas as pd\n",
    "import re\n",
    "from ibm_watson import PersonalityInsightsV3\n",
    "from ibm_cloud_sdk_core.authenticators import IAMAuthenticator\n",
    "from matplotlib import pyplot as plt\n",
    "import seaborn as sns\n",
    "\n",
    "handle = 'imVkohli' # Person's twitter handle here"
   ]
  },
  {
   "cell_type": "markdown",
   "metadata": {},
   "source": [
    "## Twitter and IBM Cloud Configuration for API Calls\n",
    "\n",
    "#### twitter.properties format:\n",
    "\n",
    "\n",
    "    [twitter]\n",
    "    accesstoken=XXXXXXXXX\n",
    "    accesstokensecret=XXXXXXXXXXX\n",
    "    apikey=XXXXXXXXXXXXX\n",
    "    apisecretkey=XXXXXXXXXXXXXXXXXXXXXX\n",
    "    apikeyibm = XXXXXXXXXXXXXXXXXXXXXXXX\n",
    "    urlibm = XXXXXXXXXXXXXXXXXXXXXXXXXXXXXXXXXXXXXX\n",
    "\n",
    "**Get your Access for twitter developer access from [HERE](http://developer.twitter.com/).**<br>\n",
    "**Get your IBM keys from [HERE](https://cloud.ibm.com/services/personality-insights)**<br>\n",
    "**Both accounts are FREE of COST**"
   ]
  },
  {
   "cell_type": "code",
   "execution_count": 24,
   "metadata": {
    "ExecuteTime": {
     "end_time": "2020-11-04T17:05:33.153051Z",
     "start_time": "2020-11-04T17:05:33.137067Z"
    }
   },
   "outputs": [],
   "source": [
    "config = configparser.RawConfigParser()\n",
    "config.read('twitter.properties')\n",
    "accesstoken = config.get('twitter','accesstoken')\n",
    "accesstokensecret = config.get('twitter','accesstokensecret')\n",
    "apikey = config.get('twitter','apikey')\n",
    "apisecretkey = config.get('twitter','apisecretkey')\n",
    "apikeyibm = config.get('twitter','apikeyibm')\n",
    "urlibm = config.get('twitter','urlibm')"
   ]
  },
  {
   "cell_type": "code",
   "execution_count": 25,
   "metadata": {
    "ExecuteTime": {
     "end_time": "2020-11-04T17:05:33.725495Z",
     "start_time": "2020-11-04T17:05:33.714491Z"
    }
   },
   "outputs": [],
   "source": [
    "auth = tw.OAuthHandler(apikey,apisecretkey)\n",
    "auth.set_access_token(accesstoken,accesstokensecret)\n",
    "api = tw.API(auth,wait_on_rate_limit=True)"
   ]
  },
  {
   "cell_type": "code",
   "execution_count": 26,
   "metadata": {
    "ExecuteTime": {
     "end_time": "2020-11-04T17:05:38.867965Z",
     "start_time": "2020-11-04T17:05:38.004177Z"
    }
   },
   "outputs": [],
   "source": [
    "res = api.user_timeline(screen_name=handle, count=100, include_rts=True)\n",
    "tweets = [tweet.text for tweet in res]"
   ]
  },
  {
   "cell_type": "code",
   "execution_count": 27,
   "metadata": {
    "ExecuteTime": {
     "end_time": "2020-11-04T17:05:39.537962Z",
     "start_time": "2020-11-04T17:05:39.533973Z"
    }
   },
   "outputs": [],
   "source": [
    "def clean(text):\n",
    "    text = re.sub(\"RT @[\\w]*:\",\"\",text)\n",
    "    text = re.sub(\"@[\\w]*\",\"\",text)\n",
    "    text = re.sub(\"https?://[A-Za-z0-9./]*\",\"\",text)\n",
    "    text = re.sub(\"\\n\",\"\",text)\n",
    "    return text\n"
   ]
  },
  {
   "cell_type": "code",
   "execution_count": 28,
   "metadata": {
    "ExecuteTime": {
     "end_time": "2020-11-04T17:05:40.624717Z",
     "start_time": "2020-11-04T17:05:40.618699Z"
    }
   },
   "outputs": [],
   "source": [
    "cleaned_tweets = []\n",
    "for i in tweets:\n",
    "    cleaned_tweets.append(clean(i))"
   ]
  },
  {
   "cell_type": "code",
   "execution_count": 29,
   "metadata": {
    "ExecuteTime": {
     "end_time": "2020-11-04T17:05:41.964466Z",
     "start_time": "2020-11-04T17:05:41.954467Z"
    }
   },
   "outputs": [],
   "source": [
    "cleaned_tweet_blob = \"\".join(cleaned_tweets)"
   ]
  },
  {
   "cell_type": "code",
   "execution_count": 30,
   "metadata": {
    "ExecuteTime": {
     "end_time": "2020-11-04T17:05:54.247625Z",
     "start_time": "2020-11-04T17:05:54.236653Z"
    }
   },
   "outputs": [],
   "source": [
    "authenticator = IAMAuthenticator(apikeyibm)\n",
    "personality_insights = PersonalityInsightsV3(\n",
    "        version='2017-10-13', \n",
    "        authenticator=authenticator\n",
    ")\n",
    "personality_insights.set_service_url(urlibm)"
   ]
  },
  {
   "cell_type": "code",
   "execution_count": 31,
   "metadata": {
    "ExecuteTime": {
     "end_time": "2020-11-04T17:05:57.848713Z",
     "start_time": "2020-11-04T17:05:54.991704Z"
    }
   },
   "outputs": [],
   "source": [
    "profile = personality_insights.profile(cleaned_tweet_blob, accept='application/json').get_result()"
   ]
  },
  {
   "cell_type": "code",
   "execution_count": 32,
   "metadata": {
    "ExecuteTime": {
     "end_time": "2020-11-04T17:05:57.864485Z",
     "start_time": "2020-11-04T17:05:57.849526Z"
    }
   },
   "outputs": [
    {
     "name": "stdout",
     "output_type": "stream",
     "text": [
      "Openness 0.37432858447056805\n",
      "Conscientiousness 0.9603816848542818\n",
      "Extraversion 0.5550833252573109\n",
      "Agreeableness 0.8136426752973973\n",
      "Emotional range 0.19100792127126187\n"
     ]
    }
   ],
   "source": [
    "for personality in profile['personality']:\n",
    "    print(personality['name'], personality['percentile'])"
   ]
  },
  {
   "cell_type": "code",
   "execution_count": 33,
   "metadata": {
    "ExecuteTime": {
     "end_time": "2020-11-04T17:06:00.232426Z",
     "start_time": "2020-11-04T17:06:00.222446Z"
    }
   },
   "outputs": [],
   "source": [
    "personality = profile['personality']\n",
    "result = {per['name']:per['percentile'] for per in personality}\n",
    "df = pd.DataFrame.from_dict(result, orient='index')\n",
    "df.reset_index(inplace=True)\n",
    "df.columns = ['Personality', 'percentile']"
   ]
  },
  {
   "cell_type": "code",
   "execution_count": 35,
   "metadata": {
    "ExecuteTime": {
     "end_time": "2020-11-04T17:06:01.708894Z",
     "start_time": "2020-11-04T17:06:01.603123Z"
    }
   },
   "outputs": [
    {
     "data": {
      "image/png": "[encoded data removed]",
      "text/plain": [
       "<Figure size 1080x360 with 1 Axes>"
      ]
     },
     "metadata": {
      "needs_background": "light"
     },
     "output_type": "display_data"
    }
   ],
   "source": [
    "plt.figure(figsize=(15,5))\n",
    "sns.barplot(y='percentile', x='Personality', data=df).set_title('OCEAN personality Traits')\n",
    "plt.show()"
   ]
  },
  {
   "cell_type": "code",
   "execution_count": null,
   "metadata": {},
   "outputs": [],
   "source": []
  }
 ],
 "metadata": {
  "gist": {
   "data": {
    "description": "O.C.E.A.N Personality Insights using Twitter and IBM Cloud.ipynb",
    "public": true
   },
   "id": ""
  },
  "kernelspec": {
   "display_name": "TensorFlow-GPU",
   "language": "python",
   "name": "tf-gpu"
  },
  "language_info": {
   "codemirror_mode": {
    "name": "ipython",
    "version": 3
   },
   "file_extension": ".py",
   "mimetype": "text/x-python",
   "name": "python",
   "nbconvert_exporter": "python",
   "pygments_lexer": "ipython3",
   "version": "3.7.7"
  }
 },
 "nbformat": 4,
 "nbformat_minor": 4
}
